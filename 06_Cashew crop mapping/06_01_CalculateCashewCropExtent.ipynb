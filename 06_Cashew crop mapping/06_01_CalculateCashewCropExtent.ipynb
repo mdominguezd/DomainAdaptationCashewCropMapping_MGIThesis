{
 "cells": [
  {
   "cell_type": "code",
   "execution_count": 1,
   "id": "d94bca76-93e4-4d83-8a51-47a47564e9a5",
   "metadata": {},
   "outputs": [
    {
     "name": "stderr",
     "output_type": "stream",
     "text": [
      "C:\\Users\\mdomi\\miniconda3\\envs\\pytorch\\lib\\site-packages\\torchvision\\io\\image.py:13: UserWarning: Failed to load image Python extension: '[WinError 127] The specified procedure could not be found'If you don't plan on using image functionality from `torchvision.io`, you can ignore this warning. Otherwise, there might be something wrong with your environment. Did you have `libjpeg` or `libpng` installed before building `torchvision` from source?\n",
      "  warn(\n"
     ]
    }
   ],
   "source": [
    "import rasterio\n",
    "from rasterio.plot import show\n",
    "import os\n",
    "import numpy as np\n",
    "import matplotlib.pyplot as plt\n",
    "import torch\n",
    "from skimage import io\n",
    "import torchvision.transforms as T\n",
    "from torchmetrics import F1Score\n",
    "import sys\n",
    "sys.path.append('../Models/Networks')\n",
    "from U_Net import *"
   ]
  },
  {
   "cell_type": "markdown",
   "id": "e6e6e365-627a-484c-be04-f2f1c04c5050",
   "metadata": {},
   "source": [
    "## Load the model"
   ]
  },
  {
   "cell_type": "code",
   "execution_count": 2,
   "id": "976c6c3f-7414-4192-84c3-61ed7feae0d3",
   "metadata": {
    "scrolled": true
   },
   "outputs": [],
   "source": [
    "model = torch.load('../Models/Experiments/U_Net_SourceOnlyCIV.pt')"
   ]
  },
  {
   "cell_type": "code",
   "execution_count": null,
   "id": "003c37f7-3981-4af4-9970-2aafc2b4a226",
   "metadata": {},
   "outputs": [],
   "source": []
  }
 ],
 "metadata": {
  "kernelspec": {
   "display_name": "Python 3 (ipykernel)",
   "language": "python",
   "name": "python3"
  },
  "language_info": {
   "codemirror_mode": {
    "name": "ipython",
    "version": 3
   },
   "file_extension": ".py",
   "mimetype": "text/x-python",
   "name": "python",
   "nbconvert_exporter": "python",
   "pygments_lexer": "ipython3",
   "version": "3.11.4"
  },
  "widgets": {
   "application/vnd.jupyter.widget-state+json": {
    "state": {},
    "version_major": 2,
    "version_minor": 0
   }
  }
 },
 "nbformat": 4,
 "nbformat_minor": 5
}

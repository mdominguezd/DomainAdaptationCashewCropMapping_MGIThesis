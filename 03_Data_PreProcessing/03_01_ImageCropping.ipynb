{
 "cells": [
  {
   "cell_type": "code",
   "execution_count": 1,
   "id": "9b93a830-81ec-4d8f-9beb-ec107d189060",
   "metadata": {},
   "outputs": [],
   "source": [
    "import numpy as np\n",
    "import os\n",
    "from osgeo import gdal\n",
    "import matplotlib.pyplot as plt\n",
    "import rasterio\n",
    "import zipfile\n",
    "import shutil\n",
    "import time\n",
    "import contextlib"
   ]
  },
  {
   "cell_type": "markdown",
   "id": "958887ee-89be-4041-a913-a0b8c8321a7c",
   "metadata": {},
   "source": [
    "## Crop images"
   ]
  },
  {
   "cell_type": "code",
   "execution_count": 2,
   "id": "d388a0e9-f4fe-4e39-8874-3859ce9278b9",
   "metadata": {},
   "outputs": [],
   "source": [
    "def crop_images(in_filenames, out_filenames, patch_size = 512, m = 0, overlap = 0.5, perc_cashew = 0.1):\n",
    "    \"\"\"\n",
    "        Function to crop images for semantic segmentation model. Considers patch size and overlap percentage.\n",
    "\n",
    "        Inputs:\n",
    "\n",
    "        Outputs:\n",
    "    \"\"\"\n",
    "    im = gdal.Open(in_filenames[0])\n",
    "    gt = gdal.Open(in_filenames[1])\n",
    "    \n",
    "    k = m \n",
    "    magnitude = 5\n",
    "    l = 0\n",
    "    for i in np.arange(0, im.RasterXSize, int(patch_size*(1-overlap))):\n",
    "        for j in np.arange(0, im.RasterYSize, int(patch_size*(1-overlap))):\n",
    "            \n",
    "            # Hardcode so the images will fit together\n",
    "            j_gt = im.RasterYSize - (j + patch_size)\n",
    "            # j_gt = j\n",
    "            \n",
    "            s = '{:0'+str(magnitude)+'d}'\n",
    "            \n",
    "            if gt != None:\n",
    "            \n",
    "                gdal.Translate(out_filenames[1] + s.format(k)+'.tif', gt, srcWin = [i, j_gt, patch_size, patch_size])\n",
    "                \n",
    "                l += 1\n",
    "                \n",
    "                with rasterio.open(out_filenames[1] + s.format(k)+'.tif') as src:\n",
    "                    cashew = src.read()\n",
    "                    ten_perc = cashew.sum() > (patch_size**2)*perc_cashew\n",
    "                    src.close()\n",
    "                    \n",
    "                if ten_perc:\n",
    "                    \n",
    "                    gdal.Translate(out_filenames[0] + s.format(k)+'.tif', im, srcWin = [i, j, patch_size, patch_size])\n",
    "    \n",
    "                    with rasterio.open(out_filenames[0] + s.format(k)+'.tif') as src:\n",
    "                        img = src.read()\n",
    "                        px = img[0] >= 0\n",
    "                        px = px.sum() != (patch_size**2)\n",
    "                        \n",
    "                        src.close()\n",
    "                    \n",
    "                    k+=1\n",
    "                    \n",
    "                    if px:\n",
    "                        with contextlib.suppress(PermissionError):\n",
    "                            k-=1\n",
    "                            os.remove(out_filenames[1] + s.format(k)+'.tif')\n",
    "\n",
    "    im = None\n",
    "    gt = None\n",
    "            \n",
    "    return k\n",
    "                \n",
    "\n",
    "def zipdir(path, ziph):\n",
    "    # ziph is zipfile handle\n",
    "    for root, dirs, files in os.walk(path):\n",
    "        for file in files:\n",
    "            ziph.write(os.path.join(root, file), \n",
    "                       os.path.relpath(os.path.join(root, file), \n",
    "                                       os.path.join(path, '..')))"
   ]
  },
  {
   "cell_type": "markdown",
   "id": "b250440e-89e8-4a55-82f4-d1d76bc790a0",
   "metadata": {},
   "source": [
    "## For Tanzania"
   ]
  },
  {
   "cell_type": "code",
   "execution_count": 3,
   "id": "477cbdf8-22e4-4b08-9e8c-436647fad85b",
   "metadata": {},
   "outputs": [],
   "source": [
    "if 'Tanzania' not in os.listdir('../Data/Planet/'):\n",
    "    os.mkdir('../Data/Planet/Tanzania')"
   ]
  },
  {
   "cell_type": "code",
   "execution_count": 4,
   "id": "f57e539d-bb5d-4115-86b2-48842700e98c",
   "metadata": {},
   "outputs": [
    {
     "name": "stdout",
     "output_type": "stream",
     "text": [
      "Train 1574\n",
      "Validation 29\n",
      "Test 18\n"
     ]
    }
   ],
   "source": [
    "# Crop and save planet and GT images for Tanzania\n",
    "dir = '../Data/Planet/'\n",
    "sets = ['Train', 'Validation', 'Test']\n",
    "\n",
    "for s in sets:\n",
    "    \n",
    "    m = 0\n",
    "\n",
    "    o = 0.8\n",
    "\n",
    "    if (s == 'Test') | (s == 'Validation'):\n",
    "        o = 0\n",
    "    \n",
    "    for i in os.listdir(dir):\n",
    "        \n",
    "        if 'Tanzania' + s in i:\n",
    "\n",
    "            planet_path = dir + i\n",
    "            vect_path = '../Data/Vector/Tanzania'+s+'Rasterized'+i.split('.')[0][-1]+'.tif'\n",
    "            \n",
    "            k = crop_images([planet_path, vect_path], \n",
    "                            ['../Data/Planet/Tanzania/CroppedTanzania'+s+'StudyArea_',\n",
    "                             '../Data/Planet/Tanzania/CroppedTanzania'+s+'GT_'],\n",
    "                            patch_size=256, \n",
    "                            m = m, \n",
    "                            overlap = o)\n",
    "            m = k\n",
    "\n",
    "            # with contextlib.suppress(PermissionError):\n",
    "            #     os.remove(planet_path)\n",
    "            #     os.remove(vect_path)\n",
    "\n",
    "    print(s, m)"
   ]
  },
  {
   "cell_type": "code",
   "execution_count": 5,
   "id": "bce016c9-d542-4f2f-b4fb-45701ca33725",
   "metadata": {},
   "outputs": [],
   "source": [
    "# Zip folder with planet and GT images\n",
    "with zipfile.ZipFile('../Data/PlanetTanzania_16_17.zip', 'w', zipfile.ZIP_DEFLATED) as zipf:\n",
    "    zipdir('../Data/Planet/Tanzania', zipf)"
   ]
  },
  {
   "cell_type": "code",
   "execution_count": null,
   "id": "daf9f764-21f2-4d04-832b-a700012764ee",
   "metadata": {},
   "outputs": [],
   "source": [
    "with contextlib.suppress(PermissionError):\n",
    "        os.remove('../Data/Planet/PlanetTilesIvory_' + str(i+1) + '.tif')\n",
    "        os.remove('../Data/Vector/IvoryCoastRasterized_' + str(i+1) + '.tif')"
   ]
  },
  {
   "cell_type": "markdown",
   "id": "7054003d-1de2-430a-8e24-536ca6acc5d5",
   "metadata": {},
   "source": [
    "## For Ivory Coast"
   ]
  },
  {
   "cell_type": "code",
   "execution_count": 3,
   "id": "2871663f-99b0-4739-9cdc-eb1a33ce3237",
   "metadata": {},
   "outputs": [],
   "source": [
    "if 'IvoryCoast' not in os.listdir('../Data/Planet/'):\n",
    "    os.mkdir('../Data/Planet/IvoryCoast')"
   ]
  },
  {
   "cell_type": "code",
   "execution_count": null,
   "id": "713130d2-334d-4ebd-abd9-f38e2994a2a7",
   "metadata": {
    "scrolled": true
   },
   "outputs": [],
   "source": [
    "# Crop and save planet and GT images for Ivory Coast\n",
    "dir = '../Data/Planet/'\n",
    "sets = ['Train', 'Validation', 'Test']\n",
    "\n",
    "for s in sets:\n",
    "    \n",
    "    m = 0\n",
    "    \n",
    "    o = 0.6\n",
    "\n",
    "    if (s == 'Test') | (s == 'Validation'):\n",
    "        o = 0\n",
    "        \n",
    "    for i in os.listdir(dir):\n",
    "        \n",
    "        if 'IvoryCoast' + s in i:\n",
    "\n",
    "            planet_path = dir + i\n",
    "            vect_path = '../Data/Vector/IvoryCoast'+s+'Rasterized'+i.split('.')[0].split('a')[-1]+'.tif'\n",
    "            \n",
    "            k = crop_images([planet_path, vect_path], \n",
    "                            ['../Data/Planet/IvoryCoast/CroppedIvoryCoast'+s+'StudyArea_',\n",
    "                             '../Data/Planet/IvoryCoast/CroppedIvoryCoast'+s+'GT_'],\n",
    "                            patch_size=256,\n",
    "                            m = m,\n",
    "                            overlap = o, \n",
    "                            perc_cashew=0.1)\n",
    "            m = k\n",
    "            \n",
    "        # print(i, m)\n",
    "    print(s, m)"
   ]
  },
  {
   "cell_type": "code",
   "execution_count": null,
   "id": "414cf295-0719-40bf-98db-9886286beadb",
   "metadata": {},
   "outputs": [],
   "source": [
    "with zipfile.ZipFile('../Data/PlanetIvoryCoast_16_17.zip', 'w', zipfile.ZIP_DEFLATED) as zipf:\n",
    "    zipdir('../Data/Planet/IvoryCoast', zipf)"
   ]
  },
  {
   "cell_type": "code",
   "execution_count": 5,
   "id": "e085347f-851f-4b5a-9f73-9ab7393ab750",
   "metadata": {},
   "outputs": [],
   "source": [
    "shutil.rmtree('../Data/Planet/Tanzania')"
   ]
  }
 ],
 "metadata": {
  "kernelspec": {
   "display_name": "Python 3 (ipykernel)",
   "language": "python",
   "name": "python3"
  },
  "language_info": {
   "codemirror_mode": {
    "name": "ipython",
    "version": 3
   },
   "file_extension": ".py",
   "mimetype": "text/x-python",
   "name": "python",
   "nbconvert_exporter": "python",
   "pygments_lexer": "ipython3",
   "version": "3.11.5"
  },
  "widgets": {
   "application/vnd.jupyter.widget-state+json": {
    "state": {},
    "version_major": 2,
    "version_minor": 0
   }
  }
 },
 "nbformat": 4,
 "nbformat_minor": 5
}

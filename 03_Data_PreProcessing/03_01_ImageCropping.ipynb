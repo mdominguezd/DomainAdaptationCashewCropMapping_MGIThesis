{
 "cells": [
  {
   "cell_type": "code",
   "execution_count": 1,
   "id": "9b93a830-81ec-4d8f-9beb-ec107d189060",
   "metadata": {},
   "outputs": [],
   "source": [
    "import numpy as np\n",
    "import os\n",
    "from osgeo import gdal\n",
    "import matplotlib.pyplot as plt\n",
    "import rasterio\n",
    "import zipfile\n",
    "import shutil\n",
    "import time\n",
    "import contextlib"
   ]
  },
  {
   "cell_type": "markdown",
   "id": "958887ee-89be-4041-a913-a0b8c8321a7c",
   "metadata": {},
   "source": [
    "## Crop images"
   ]
  },
  {
   "cell_type": "code",
   "execution_count": 2,
   "id": "d388a0e9-f4fe-4e39-8874-3859ce9278b9",
   "metadata": {},
   "outputs": [],
   "source": [
    "def crop_images(in_filenames, out_filenames, patch_size = 512, m = 0):\n",
    "\n",
    "    im = gdal.Open(in_filenames[0])\n",
    "    gt = gdal.Open(in_filenames[1])\n",
    "    \n",
    "    k = m \n",
    "    magnitude = len(str(im.RasterXSize/patch_size * im.RasterYSize/patch_size).split('.')[0])\n",
    "    l = 0\n",
    "    for i in np.arange(0, im.RasterXSize, patch_size):\n",
    "        for j in np.arange(0, im.RasterYSize, patch_size):\n",
    "            # Hardcode so the images will fit together\n",
    "            j_gt = im.RasterYSize - (j + patch_size)\n",
    "                \n",
    "            s = '{:0'+str(magnitude)+'d}'\n",
    "            gdal.Translate(out_filenames[1] + s.format(k)+'.tif', gt, srcWin = [i, j_gt, patch_size, patch_size])\n",
    "            l += 1\n",
    "            \n",
    "            with rasterio.open(out_filenames[1] + s.format(k)+'.tif') as src:\n",
    "                cashew = src.read()\n",
    "                ten_perc = cashew.sum() > (patch_size**2)*0.1\n",
    "                src.close()\n",
    "            if ten_perc:\n",
    "                gdal.Translate(out_filenames[0] + s.format(k)+'.tif', im, srcWin = [i, j, patch_size, patch_size])\n",
    "                k+=1\n",
    "            else:\n",
    "                with contextlib.suppress(PermissionError):\n",
    "                    os.remove(out_filenames[1] + s.format(k)+'.tif')\n",
    "\n",
    "    im = None\n",
    "    gt = None\n",
    "            \n",
    "    return k\n",
    "                \n",
    "\n",
    "def zipdir(path, ziph):\n",
    "    # ziph is zipfile handle\n",
    "    for root, dirs, files in os.walk(path):\n",
    "        for file in files:\n",
    "            ziph.write(os.path.join(root, file), \n",
    "                       os.path.relpath(os.path.join(root, file), \n",
    "                                       os.path.join(path, '..')))"
   ]
  },
  {
   "cell_type": "code",
   "execution_count": 3,
   "id": "477cbdf8-22e4-4b08-9e8c-436647fad85b",
   "metadata": {},
   "outputs": [],
   "source": [
    "if 'Tanzania' not in os.listdir('../Data/Planet/'):\n",
    "    os.mkdir('../Data/Planet/Tanzania')"
   ]
  },
  {
   "cell_type": "code",
   "execution_count": 4,
   "id": "c9ff1a2b-d06b-47ac-8610-60315d7dbab2",
   "metadata": {},
   "outputs": [],
   "source": [
    "# Crop and save planet and GT images\n",
    "k = crop_images(['../Data/Planet/TanzaniaStudyArea.tif', '../Data/Vector/TanzaniaRasterized.tif'], \n",
    "                ['../Data/Planet/Tanzania/CroppedTanzaniaStudyArea_', '../Data/Planet/Tanzania/CroppedTanzaniaGT_'], patch_size=256)"
   ]
  },
  {
   "cell_type": "code",
   "execution_count": 5,
   "id": "6387fa91-c860-42e8-a8a2-9146c2b8fd81",
   "metadata": {},
   "outputs": [],
   "source": [
    "# Zip folder with planet and GT images\n",
    "with zipfile.ZipFile('../Data/PlanetTanzania.zip', 'w', zipfile.ZIP_DEFLATED) as zipf:\n",
    "    zipdir('../Data/Planet/Tanzania', zipf)"
   ]
  },
  {
   "cell_type": "code",
   "execution_count": 56,
   "id": "e276f283-2b2c-451a-b6b2-85d049eb2e8c",
   "metadata": {
    "scrolled": true
   },
   "outputs": [],
   "source": [
    "# shutil.rmtree('../Data/Planet/Tanzania')\n",
    "# os.remove('../Data/Planet/TanzaniaStudyArea.tif')\n",
    "# os.remove('../Data/Vector/TanzaniaRasterized.tif')"
   ]
  },
  {
   "cell_type": "code",
   "execution_count": 3,
   "id": "93ffa6a6-7f07-4c71-8389-d9c1c06d25bf",
   "metadata": {},
   "outputs": [],
   "source": [
    "## Send .zip to cloud if disk space is limited"
   ]
  },
  {
   "cell_type": "code",
   "execution_count": 6,
   "id": "2871663f-99b0-4739-9cdc-eb1a33ce3237",
   "metadata": {},
   "outputs": [],
   "source": [
    "if 'IvoryCoast' not in os.listdir('../Data/Planet/'):\n",
    "    os.mkdir('../Data/Planet/IvoryCoast')"
   ]
  },
  {
   "cell_type": "code",
   "execution_count": 7,
   "id": "6fdf0767-9ca6-4e7d-bf85-883c37d96359",
   "metadata": {
    "scrolled": true
   },
   "outputs": [
    {
     "name": "stdout",
     "output_type": "stream",
     "text": [
      "230\n",
      "833\n",
      "1121\n",
      "1629\n"
     ]
    }
   ],
   "source": [
    "m  = 0\n",
    "for i in range(4):\n",
    "    k = crop_images(in_filenames = ['../Data/Planet/PlanetTilesIvory_' + str(i+1) + '.tif', '../Data/Vector/IvoryCoastRasterized_' + str(i+1) + '.tif'], \n",
    "                    out_filenames = ['../Data/Planet/IvoryCoast/CroppedIvoryCoastStudyArea_', '../Data/Planet/IvoryCoast/CroppedIvoryCoastGT_'],\n",
    "                    patch_size = 256, m = m)\n",
    "    m = k\n",
    "    print(m)\n",
    "    with contextlib.suppress(PermissionError):\n",
    "        os.remove('../Data/Planet/PlanetTilesIvory_' + str(i+1) + '.tif')\n",
    "        os.remove('../Data/Vector/IvoryCoastRasterized_' + str(i+1) + '.tif')"
   ]
  },
  {
   "cell_type": "code",
   "execution_count": 8,
   "id": "414cf295-0719-40bf-98db-9886286beadb",
   "metadata": {},
   "outputs": [],
   "source": [
    "with zipfile.ZipFile('../Data/PlanetIvoryCoast.zip', 'w', zipfile.ZIP_DEFLATED) as zipf:\n",
    "    zipdir('../Data/Planet/IvoryCoast', zipf)"
   ]
  },
  {
   "cell_type": "code",
   "execution_count": 12,
   "id": "e085347f-851f-4b5a-9f73-9ab7393ab750",
   "metadata": {
    "collapsed": true,
    "jupyter": {
     "outputs_hidden": true
    }
   },
   "outputs": [
    {
     "ename": "FileNotFoundError",
     "evalue": "[WinError 3] The system cannot find the path specified: '../Data/Planet/IvoryCoast'",
     "output_type": "error",
     "traceback": [
      "\u001b[1;31m---------------------------------------------------------------------------\u001b[0m",
      "\u001b[1;31mFileNotFoundError\u001b[0m                         Traceback (most recent call last)",
      "Cell \u001b[1;32mIn[12], line 1\u001b[0m\n\u001b[1;32m----> 1\u001b[0m \u001b[43mshutil\u001b[49m\u001b[38;5;241;43m.\u001b[39;49m\u001b[43mrmtree\u001b[49m\u001b[43m(\u001b[49m\u001b[38;5;124;43m'\u001b[39;49m\u001b[38;5;124;43m../Data/Planet/IvoryCoast\u001b[39;49m\u001b[38;5;124;43m'\u001b[39;49m\u001b[43m)\u001b[49m\n",
      "File \u001b[1;32m~\\miniconda3\\envs\\mgi\\Lib\\shutil.py:759\u001b[0m, in \u001b[0;36mrmtree\u001b[1;34m(path, ignore_errors, onerror, dir_fd)\u001b[0m\n\u001b[0;32m    757\u001b[0m     \u001b[38;5;66;03m# can't continue even if onerror hook returns\u001b[39;00m\n\u001b[0;32m    758\u001b[0m     \u001b[38;5;28;01mreturn\u001b[39;00m\n\u001b[1;32m--> 759\u001b[0m \u001b[38;5;28;01mreturn\u001b[39;00m \u001b[43m_rmtree_unsafe\u001b[49m\u001b[43m(\u001b[49m\u001b[43mpath\u001b[49m\u001b[43m,\u001b[49m\u001b[43m \u001b[49m\u001b[43monerror\u001b[49m\u001b[43m)\u001b[49m\n",
      "File \u001b[1;32m~\\miniconda3\\envs\\mgi\\Lib\\shutil.py:603\u001b[0m, in \u001b[0;36m_rmtree_unsafe\u001b[1;34m(path, onerror)\u001b[0m\n\u001b[0;32m    601\u001b[0m         entries \u001b[38;5;241m=\u001b[39m \u001b[38;5;28mlist\u001b[39m(scandir_it)\n\u001b[0;32m    602\u001b[0m \u001b[38;5;28;01mexcept\u001b[39;00m \u001b[38;5;167;01mOSError\u001b[39;00m:\n\u001b[1;32m--> 603\u001b[0m     \u001b[43monerror\u001b[49m\u001b[43m(\u001b[49m\u001b[43mos\u001b[49m\u001b[38;5;241;43m.\u001b[39;49m\u001b[43mscandir\u001b[49m\u001b[43m,\u001b[49m\u001b[43m \u001b[49m\u001b[43mpath\u001b[49m\u001b[43m,\u001b[49m\u001b[43m \u001b[49m\u001b[43msys\u001b[49m\u001b[38;5;241;43m.\u001b[39;49m\u001b[43mexc_info\u001b[49m\u001b[43m(\u001b[49m\u001b[43m)\u001b[49m\u001b[43m)\u001b[49m\n\u001b[0;32m    604\u001b[0m     entries \u001b[38;5;241m=\u001b[39m []\n\u001b[0;32m    605\u001b[0m \u001b[38;5;28;01mfor\u001b[39;00m entry \u001b[38;5;129;01min\u001b[39;00m entries:\n",
      "File \u001b[1;32m~\\miniconda3\\envs\\mgi\\Lib\\shutil.py:600\u001b[0m, in \u001b[0;36m_rmtree_unsafe\u001b[1;34m(path, onerror)\u001b[0m\n\u001b[0;32m    598\u001b[0m \u001b[38;5;28;01mdef\u001b[39;00m \u001b[38;5;21m_rmtree_unsafe\u001b[39m(path, onerror):\n\u001b[0;32m    599\u001b[0m     \u001b[38;5;28;01mtry\u001b[39;00m:\n\u001b[1;32m--> 600\u001b[0m         \u001b[38;5;28;01mwith\u001b[39;00m os\u001b[38;5;241m.\u001b[39mscandir(path) \u001b[38;5;28;01mas\u001b[39;00m scandir_it:\n\u001b[0;32m    601\u001b[0m             entries \u001b[38;5;241m=\u001b[39m \u001b[38;5;28mlist\u001b[39m(scandir_it)\n\u001b[0;32m    602\u001b[0m     \u001b[38;5;28;01mexcept\u001b[39;00m \u001b[38;5;167;01mOSError\u001b[39;00m:\n",
      "\u001b[1;31mFileNotFoundError\u001b[0m: [WinError 3] The system cannot find the path specified: '../Data/Planet/IvoryCoast'"
     ]
    }
   ],
   "source": [
    "shutil.rmtree('../Data/Planet/IvoryCoast')"
   ]
  },
  {
   "cell_type": "code",
   "execution_count": null,
   "id": "73510187-b86f-4f7a-957a-0747315ebeae",
   "metadata": {},
   "outputs": [],
   "source": []
  },
  {
   "cell_type": "code",
   "execution_count": null,
   "id": "8c5027b1-26fb-4330-9633-add922d403b1",
   "metadata": {},
   "outputs": [],
   "source": []
  }
 ],
 "metadata": {
  "kernelspec": {
   "display_name": "Python 3 (ipykernel)",
   "language": "python",
   "name": "python3"
  },
  "language_info": {
   "codemirror_mode": {
    "name": "ipython",
    "version": 3
   },
   "file_extension": ".py",
   "mimetype": "text/x-python",
   "name": "python",
   "nbconvert_exporter": "python",
   "pygments_lexer": "ipython3",
   "version": "3.10.12"
  },
  "widgets": {
   "application/vnd.jupyter.widget-state+json": {
    "state": {},
    "version_major": 2,
    "version_minor": 0
   }
  }
 },
 "nbformat": 4,
 "nbformat_minor": 5
}

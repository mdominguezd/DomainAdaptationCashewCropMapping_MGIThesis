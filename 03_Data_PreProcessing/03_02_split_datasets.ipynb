{
 "cells": [
  {
   "cell_type": "markdown",
   "id": "4a362396-09d6-451c-ae93-8e9412225c59",
   "metadata": {},
   "source": [
    "---\n",
    "title: \"Data splitting\"\n",
    "author: \"Martín Domínguez Durán\"\n",
    "date: today\n",
    "format: \n",
    "    revealjs:\n",
    "        theme: simple\n",
    "        toc: true\n",
    "        toc-depth: 2\n",
    "        slide-number: true\n",
    "        logo: ../imgs/WUR_Logo.png\n",
    "        footer: Martín Domínguez Durán\n",
    "        transition: fade\n",
    "        smaller: true\n",
    "---"
   ]
  },
  {
   "cell_type": "code",
   "execution_count": null,
   "id": "7ef02a32-e592-4eae-8747-3381d6ec56ae",
   "metadata": {},
   "outputs": [],
   "source": []
  }
 ],
 "metadata": {
  "kernelspec": {
   "display_name": "Python 3 (ipykernel)",
   "language": "python",
   "name": "python3"
  },
  "language_info": {
   "codemirror_mode": {
    "name": "ipython",
    "version": 3
   },
   "file_extension": ".py",
   "mimetype": "text/x-python",
   "name": "python",
   "nbconvert_exporter": "python",
   "pygments_lexer": "ipython3",
   "version": "3.11.4"
  }
 },
 "nbformat": 4,
 "nbformat_minor": 5
}

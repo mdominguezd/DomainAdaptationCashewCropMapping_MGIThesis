{
 "cells": [
  {
   "cell_type": "code",
   "execution_count": 2,
   "metadata": {
    "id": "xFCayZviV0A-"
   },
   "outputs": [],
   "source": [
    "import ee\n",
    "import geemap\n",
    "import os\n",
    "import numpy as np\n",
    "import geopandas as gpd\n",
    "from shapely.geometry import box\n",
    "import rasterio\n",
    "import matplotlib.pyplot as plt\n",
    "import zipfile\n",
    "from osgeo import gdal\n",
    "from osgeo import ogr\n",
    "from osgeo import gdalconst\n",
    "import contextlib"
   ]
  },
  {
   "cell_type": "code",
   "execution_count": 3,
   "metadata": {},
   "outputs": [],
   "source": [
    "# Pre-Processing\n",
    "def preProc(in_fn, out_fn, crs):\n",
    "    \"\"\"\n",
    "        Function for preprocessing vector data. It reads the file, makes its geometry valid, and reprojects it in a desired CRS.\n",
    "    \"\"\"\n",
    "    gdf = gpd.read_file(in_fn)\n",
    "    gdf['ID'] = 1\n",
    "    gdf.geometry = gdf.make_valid()\n",
    "    gdf = gdf[['ID','geometry']]\n",
    "    gdf = gdf.dissolve()\n",
    "    \n",
    "    gdf.to_crs(crs).to_file(out_fn, driver = 'GeoJSON')"
   ]
  },
  {
   "cell_type": "code",
   "execution_count": 4,
   "metadata": {},
   "outputs": [],
   "source": [
    "# preProc('../Data/Vector/Cashew_Tanzania.shp', '../Data/Vector/Cashew_Tanz.geojson', 'epsg:32736') # Tanzania\n",
    "preProc('../Data/Vector/Cashew_Ivorycoast.shp', '../Data/Vector/Cashew_Ivy.geojson', 'epsg:2041') # IvyCst"
   ]
  },
  {
   "cell_type": "code",
   "execution_count": 5,
   "metadata": {},
   "outputs": [],
   "source": [
    "def rasterize_shp(base, shp, output, crs = None, split = None):\n",
    "    \"\"\"\n",
    "    Function to rasterize vector data\n",
    "        Inputs:\n",
    "            - base: Base raster \n",
    "            - shp: Vector filename\n",
    "            - output: Output geotiff filename\n",
    "            - crs: coordinate reference system EPSG code\n",
    "            - split: Split set to be rasterized (Can be train, validation or test)\n",
    "        Outputs:\n",
    "\n",
    "        Process:\n",
    "            - Exports rasterize version of vector data\n",
    "        \n",
    "    \"\"\"\n",
    "    if split != None:\n",
    "        n_shp = '../Data/Vector/temp.geojson'\n",
    "        if 'temp.geojson' in os.listdir('../Data/Vector'):\n",
    "            os.remove(n_shp)\n",
    "        gdf = gpd.read_file(shp)\n",
    "        gdf = gdf[gdf['split'] == split]\n",
    "        gdf.to_file(n_shp, driver = 'GeoJSON')\n",
    "        shp = n_shp\n",
    "        preProc(shp, shp, crs)\n",
    "        \n",
    "    data = gdal.Open(base, gdalconst.GA_ReadOnly)\n",
    "    geo_transform = data.GetGeoTransform()\n",
    "    \n",
    "    x_min = geo_transform[0]\n",
    "    y_max = geo_transform[3]\n",
    "    x_max = x_min + geo_transform[1] * data.RasterXSize\n",
    "    y_min = y_max + geo_transform[5] * data.RasterYSize\n",
    "    x_res = data.RasterXSize\n",
    "    y_res = data.RasterYSize\n",
    "    \n",
    "    vec = ogr.Open(shp)\n",
    "    lyr = vec.GetLayer()\n",
    "    pixel_width = geo_transform[1]\n",
    "    target_ds = gdal.GetDriverByName('GTiff').Create(output, x_res, y_res, 1, gdal.GDT_Byte)\n",
    "    target_ds.SetGeoTransform((x_min, pixel_width, 0, y_min, 0, pixel_width))\n",
    "    \n",
    "    band = target_ds.GetRasterBand(1)\n",
    "    band.FlushCache()\n",
    "    \n",
    "    gdal.RasterizeLayer(target_ds, [1], lyr, burn_values = [1])\n",
    "    \n",
    "    target_ds = None\n",
    "    \n",
    "    if split != None:\n",
    "        os.remove(shp)"
   ]
  },
  {
   "cell_type": "markdown",
   "metadata": {},
   "source": [
    "## For Tanzania"
   ]
  },
  {
   "cell_type": "code",
   "execution_count": 6,
   "metadata": {},
   "outputs": [],
   "source": [
    "dir = '../Data/Planet'\n",
    "\n",
    "sets = ['Train', 'Validation', 'Test']\n",
    "\n",
    "for s in sets:\n",
    "    for i in os.listdir(dir):\n",
    "        if 'Tanzania' + s in i:\n",
    "            base = '../Data/Planet/' + i\n",
    "            shp = '../Data/Vector/Cashew_Polygons_TNZ_splitted_KM.geojson'\n",
    "            output = '../Data/Vector/Tanzania'+s+'Rasterized'+i.split('.')[0][-1]+'.tif'\n",
    "            with contextlib.suppress(PermissionError):\n",
    "                rasterize_shp(base, shp, output, 'epsg:32736', split = s.lower())"
   ]
  },
  {
   "cell_type": "markdown",
   "metadata": {},
   "source": [
    "## For Ivory Coast"
   ]
  },
  {
   "cell_type": "code",
   "execution_count": 6,
   "metadata": {},
   "outputs": [
    {
     "name": "stdout",
     "output_type": "stream",
     "text": [
      "Train IvoryCoastTrainStudyArea1.tif\n",
      "Train IvoryCoastTrainStudyArea10.tif\n",
      "Train IvoryCoastTrainStudyArea11.tif\n",
      "Train IvoryCoastTrainStudyArea12.tif\n",
      "Train IvoryCoastTrainStudyArea13.tif\n",
      "Train IvoryCoastTrainStudyArea14.tif\n",
      "Train IvoryCoastTrainStudyArea15.tif\n",
      "Train IvoryCoastTrainStudyArea2.tif\n",
      "Train IvoryCoastTrainStudyArea3.tif\n",
      "Train IvoryCoastTrainStudyArea4.tif\n",
      "Train IvoryCoastTrainStudyArea5.tif\n",
      "Train IvoryCoastTrainStudyArea6.tif\n",
      "Train IvoryCoastTrainStudyArea7.tif\n",
      "Train IvoryCoastTrainStudyArea8.tif\n",
      "Train IvoryCoastTrainStudyArea9.tif\n",
      "Validation IvoryCoastValidationStudyArea1.tif\n",
      "Validation IvoryCoastValidationStudyArea2.tif\n",
      "Validation IvoryCoastValidationStudyArea3.tif\n",
      "Validation IvoryCoastValidationStudyArea4.tif\n",
      "Validation IvoryCoastValidationStudyArea5.tif\n",
      "Validation IvoryCoastValidationStudyArea6.tif\n",
      "Validation IvoryCoastValidationStudyArea7.tif\n",
      "Validation IvoryCoastValidationStudyArea8.tif\n",
      "Test IvoryCoastTestStudyArea1.tif\n",
      "Test IvoryCoastTestStudyArea1.tif.aux.xml\n"
     ]
    },
    {
     "ename": "AttributeError",
     "evalue": "'NoneType' object has no attribute 'GetGeoTransform'",
     "output_type": "error",
     "traceback": [
      "\u001b[1;31m---------------------------------------------------------------------------\u001b[0m",
      "\u001b[1;31mAttributeError\u001b[0m                            Traceback (most recent call last)",
      "Cell \u001b[1;32mIn[6], line 13\u001b[0m\n\u001b[0;32m     11\u001b[0m \u001b[38;5;28mprint\u001b[39m(s, i)\n\u001b[0;32m     12\u001b[0m \u001b[38;5;28;01mwith\u001b[39;00m contextlib\u001b[38;5;241m.\u001b[39msuppress(\u001b[38;5;167;01mPermissionError\u001b[39;00m):\n\u001b[1;32m---> 13\u001b[0m     \u001b[43mrasterize_shp\u001b[49m\u001b[43m(\u001b[49m\u001b[43mbase\u001b[49m\u001b[43m,\u001b[49m\u001b[43m \u001b[49m\u001b[43mshp\u001b[49m\u001b[43m,\u001b[49m\u001b[43m \u001b[49m\u001b[43moutput\u001b[49m\u001b[43m,\u001b[49m\u001b[43m \u001b[49m\u001b[38;5;124;43m'\u001b[39;49m\u001b[38;5;124;43mepsg:2041\u001b[39;49m\u001b[38;5;124;43m'\u001b[39;49m\u001b[43m,\u001b[49m\u001b[43m \u001b[49m\u001b[43msplit\u001b[49m\u001b[43m \u001b[49m\u001b[38;5;241;43m=\u001b[39;49m\u001b[43m \u001b[49m\u001b[43ms\u001b[49m\u001b[38;5;241;43m.\u001b[39;49m\u001b[43mlower\u001b[49m\u001b[43m(\u001b[49m\u001b[43m)\u001b[49m\u001b[43m)\u001b[49m\n",
      "Cell \u001b[1;32mIn[5], line 27\u001b[0m, in \u001b[0;36mrasterize_shp\u001b[1;34m(base, shp, output, crs, split)\u001b[0m\n\u001b[0;32m     24\u001b[0m     preProc(shp, shp, crs)\n\u001b[0;32m     26\u001b[0m data \u001b[38;5;241m=\u001b[39m gdal\u001b[38;5;241m.\u001b[39mOpen(base, gdalconst\u001b[38;5;241m.\u001b[39mGA_ReadOnly)\n\u001b[1;32m---> 27\u001b[0m geo_transform \u001b[38;5;241m=\u001b[39m \u001b[43mdata\u001b[49m\u001b[38;5;241;43m.\u001b[39;49m\u001b[43mGetGeoTransform\u001b[49m()\n\u001b[0;32m     29\u001b[0m x_min \u001b[38;5;241m=\u001b[39m geo_transform[\u001b[38;5;241m0\u001b[39m]\n\u001b[0;32m     30\u001b[0m y_max \u001b[38;5;241m=\u001b[39m geo_transform[\u001b[38;5;241m3\u001b[39m]\n",
      "\u001b[1;31mAttributeError\u001b[0m: 'NoneType' object has no attribute 'GetGeoTransform'"
     ]
    }
   ],
   "source": [
    "dir = '../Data/Planet'\n",
    "\n",
    "sets = ['Train', 'Validation', 'Test']\n",
    "\n",
    "for s in sets:\n",
    "    for i in os.listdir(dir):\n",
    "        if 'IvoryCoast' + s in i:\n",
    "            base = '../Data/Planet/' + i\n",
    "            shp = '../Data/Vector/Cashew_Polygons_CIV_splitted_KM.geojson'\n",
    "            output = '../Data/Vector/IvoryCoast'+s+'Rasterized'+i.split('.')[0][-1]+'.tif'\n",
    "            print(s, i)\n",
    "            with contextlib.suppress(PermissionError):\n",
    "                rasterize_shp(base, shp, output, 'epsg:2041', split = s.lower())"
   ]
  },
  {
   "cell_type": "code",
   "execution_count": null,
   "metadata": {},
   "outputs": [],
   "source": []
  }
 ],
 "metadata": {
  "colab": {
   "provenance": []
  },
  "kernelspec": {
   "display_name": "Python 3 (ipykernel)",
   "language": "python",
   "name": "python3"
  },
  "language_info": {
   "codemirror_mode": {
    "name": "ipython",
    "version": 3
   },
   "file_extension": ".py",
   "mimetype": "text/x-python",
   "name": "python",
   "nbconvert_exporter": "python",
   "pygments_lexer": "ipython3",
   "version": "3.11.4"
  },
  "widgets": {
   "application/vnd.jupyter.widget-state+json": {
    "state": {},
    "version_major": 2,
    "version_minor": 0
   }
  }
 },
 "nbformat": 4,
 "nbformat_minor": 4
}

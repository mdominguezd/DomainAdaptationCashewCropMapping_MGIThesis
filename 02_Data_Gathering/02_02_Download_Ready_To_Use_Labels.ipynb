{
 "cells": [
  {
   "cell_type": "code",
   "execution_count": 1,
   "metadata": {
    "id": "xFCayZviV0A-"
   },
   "outputs": [],
   "source": [
    "import ee\n",
    "import geemap\n",
    "import os\n",
    "import numpy as np\n",
    "import geopandas as gpd\n",
    "from shapely.geometry import box\n",
    "import zipfile\n",
    "from osgeo import gdal\n",
    "from osgeo import ogr\n",
    "from osgeo import gdalconst"
   ]
  },
  {
   "cell_type": "code",
   "execution_count": 2,
   "metadata": {},
   "outputs": [],
   "source": [
    "# Pre-Processing\n",
    "def preProc(in_fn, out_fn, crs):\n",
    "    gdf = gpd.read_file(in_fn)\n",
    "    gdf['ID'] = 1\n",
    "    gdf.geometry = gdf.make_valid()\n",
    "    gdf = gdf[['ID','geometry']]\n",
    "    gdf = gdf.dissolve()\n",
    "    \n",
    "    gdf.to_crs(crs).to_file(out_fn, driver = 'GeoJSON')"
   ]
  },
  {
   "cell_type": "code",
   "execution_count": 3,
   "metadata": {},
   "outputs": [],
   "source": [
    "preProc('../Data/Vector/Cashew_Tanzania.shp', '../Data/Vector/Cashew_Tanz.geojson', 'epsg:32736') # Tanzania\n",
    "preProc('../Data/Vector/Cashew_Ivorycoast.shp', '../Data/Vector/Cashew_Ivy.geojson', 'epsg:2041') # IvyCst"
   ]
  },
  {
   "cell_type": "code",
   "execution_count": 4,
   "metadata": {},
   "outputs": [],
   "source": [
    "def rasterize_shp(base, shp, output):\n",
    "    data = gdal.Open(base, gdalconst.GA_ReadOnly)\n",
    "    geo_transform = data.GetGeoTransform()\n",
    "    \n",
    "    x_min = geo_transform[0]\n",
    "    y_max = geo_transform[3]\n",
    "    x_max = x_min + geo_transform[1] * data.RasterXSize\n",
    "    y_min = y_max + geo_transform[5] * data.RasterYSize\n",
    "    x_res = data.RasterXSize\n",
    "    y_res = data.RasterYSize\n",
    "    \n",
    "    vec = ogr.Open(shp)\n",
    "    lyr = vec.GetLayer()\n",
    "    pixel_width = geo_transform[1]\n",
    "    target_ds = gdal.GetDriverByName('GTiff').Create(output, x_res, y_res, 1, gdal.GDT_Byte)\n",
    "    target_ds.SetGeoTransform((x_min, pixel_width, 0, y_min, 0, pixel_width))\n",
    "    \n",
    "    band = target_ds.GetRasterBand(1)\n",
    "    band.FlushCache()\n",
    "    \n",
    "    gdal.RasterizeLayer(target_ds, [1], lyr, burn_values = [1])\n",
    "    \n",
    "    target_ds = None"
   ]
  },
  {
   "cell_type": "code",
   "execution_count": 10,
   "metadata": {},
   "outputs": [],
   "source": [
    "base = '../Data/Planet/TanzaniaStudyArea.tif'\n",
    "shp = '../Data/Vector/Cashew_Tanz.geojson'\n",
    "output = '../Data/Vector/TanzaniaRasterized.tif'\n",
    "rasterize_shp(base, shp, output)"
   ]
  },
  {
   "cell_type": "code",
   "execution_count": 5,
   "metadata": {},
   "outputs": [],
   "source": [
    "for i in os.listdir('../Data/Planet'):\n",
    "    if 'PlanetTilesIvory' in i:\n",
    "        base = '../Data/Planet/' + i\n",
    "        shp = '../Data/Vector/Cashew_Ivy.geojson'\n",
    "        output = '../Data/Vector/IvoryCoastRasterized_'+i[-5:-4]+'.tif'\n",
    "        rasterize_shp(base, shp, output)"
   ]
  },
  {
   "cell_type": "code",
   "execution_count": null,
   "metadata": {},
   "outputs": [],
   "source": []
  }
 ],
 "metadata": {
  "colab": {
   "provenance": []
  },
  "kernelspec": {
   "display_name": "Python 3 (ipykernel)",
   "language": "python",
   "name": "python3"
  },
  "language_info": {
   "codemirror_mode": {
    "name": "ipython",
    "version": 3
   },
   "file_extension": ".py",
   "mimetype": "text/x-python",
   "name": "python",
   "nbconvert_exporter": "python",
   "pygments_lexer": "ipython3",
   "version": "3.11.4"
  },
  "widgets": {
   "application/vnd.jupyter.widget-state+json": {
    "state": {},
    "version_major": 2,
    "version_minor": 0
   }
  }
 },
 "nbformat": 4,
 "nbformat_minor": 4
}

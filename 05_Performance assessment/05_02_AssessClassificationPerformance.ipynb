{
 "cells": [
  {
   "cell_type": "code",
   "execution_count": 1,
   "id": "d94bca76-93e4-4d83-8a51-47a47564e9a5",
   "metadata": {},
   "outputs": [
    {
     "name": "stderr",
     "output_type": "stream",
     "text": [
      "C:\\Users\\mdomi\\miniconda3\\envs\\pytorch\\lib\\site-packages\\torchvision\\io\\image.py:13: UserWarning: Failed to load image Python extension: '[WinError 127] The specified procedure could not be found'If you don't plan on using image functionality from `torchvision.io`, you can ignore this warning. Otherwise, there might be something wrong with your environment. Did you have `libjpeg` or `libpng` installed before building `torchvision` from source?\n",
      "  warn(\n"
     ]
    }
   ],
   "source": [
    "import rasterio\n",
    "from rasterio.plot import show\n",
    "import os\n",
    "import numpy as np\n",
    "import matplotlib.pyplot as plt\n",
    "import torch\n",
    "from skimage import io\n",
    "import torchvision.transforms as T\n",
    "from torchmetrics import F1Score\n",
    "import sys\n",
    "sys.path.append('../Models/Networks')\n",
    "from U_Net import *"
   ]
  },
  {
   "cell_type": "markdown",
   "id": "e6e6e365-627a-484c-be04-f2f1c04c5050",
   "metadata": {},
   "source": [
    "## Load the model"
   ]
  },
  {
   "cell_type": "code",
   "execution_count": 6,
   "id": "976c6c3f-7414-4192-84c3-61ed7feae0d3",
   "metadata": {
    "scrolled": true
   },
   "outputs": [],
   "source": [
    "model = torch.load('../Models/Experiments/U_Net_TargetOnlyTNZ.pt')"
   ]
  },
  {
   "cell_type": "code",
   "execution_count": 7,
   "id": "5be7c5de-e93e-4d59-b93c-0a8f2bc11dda",
   "metadata": {},
   "outputs": [],
   "source": [
    "def F1(pred, gt):\n",
    "\n",
    "    cl = pred - gt\n",
    "    \n",
    "    FN = np.sum(cl == -1)\n",
    "    FP = np.sum(cl == 1)\n",
    "    TN = np.sum(pred[((pred == 0)&(cl == 0))[0]])\n",
    "    TP = np.sum(pred[((pred == 1)&(cl == 0))[0]])\n",
    "\n",
    "    if TP == 0 :\n",
    "        F1 = 0\n",
    "    else:\n",
    "        prec = TP/(TP+FP)\n",
    "        recall = TP/(TP+FN)\n",
    "\n",
    "        F1 = 2*(prec*recall)/(prec+recall)\n",
    "\n",
    "    return F1"
   ]
  },
  {
   "cell_type": "code",
   "execution_count": null,
   "id": "d72fb777-1161-4d55-9012-dbfac88ec8af",
   "metadata": {},
   "outputs": [],
   "source": [
    "country = 'IvoryCoast'\n",
    "\n",
    "img_folder = '../Data/Planet/'+country+'/'\n",
    "\n",
    "F1s = []\n",
    "OAs = []\n",
    "\n",
    "F1 = F1Score(task = 'binary')\n",
    "\n",
    "for idx in range(int(len(os.listdir(img_folder))/2)):    \n",
    "    \n",
    "    conversion = T.ToTensor()\n",
    "    \n",
    "    img = io.imread(fname = img_folder + '/Cropped' + country + 'StudyArea_{:05d}'.format(idx) + '.tif').astype(np.float32)\n",
    "    gt = io.imread(fname = img_folder + '/Cropped' + country + 'GT_{:05d}'.format(idx) + '.tif').astype(np.float32)\n",
    "    \n",
    "    # img = img/np.max(np.max(img, 0), 0)\n",
    "    img = img/np.max(img)\n",
    "    \n",
    "    img = conversion(img).float()[None, :, :, :]\n",
    "\n",
    "    pred = model(img.to('cuda'))\n",
    "    pred_ = pred[0].max(0)[1].to('cpu')\n",
    "    \n",
    "    gt = conversion(gt)[0].to('cpu')\n",
    "\n",
    "    f1 = F1(pred_, gt).numpy()\n",
    "\n",
    "    F1s.append(f1)\n",
    "    OAs.append(np.mean((pred_ == gt).numpy()))\n",
    "    \n",
    "    if f1 > 0.8:\n",
    "        fig, ax = plt.subplots(1,1,figsize = (6,6))\n",
    "        \n",
    "        ax.imshow(np.transpose(img[0,[2,1,0],:,:], (1,2,0)))\n",
    "        \n",
    "        ax.imshow(pred_, cmap = 'gray', alpha = 0.15)"
   ]
  },
  {
   "cell_type": "code",
   "execution_count": null,
   "id": "658dc37e-f3da-4b77-8ec1-ad9303245a94",
   "metadata": {},
   "outputs": [],
   "source": [
    "np.mean(F1s)"
   ]
  },
  {
   "cell_type": "markdown",
   "id": "80770352-81f4-4cff-8bc7-b582c53de140",
   "metadata": {},
   "source": [
    "## For Tanzania as the Target Domain\n",
    "\n",
    "|**Model** | **F1-score** | **Overall accuracy** |\n",
    "| ----- | --------| --- |\n",
    "| *Source-only (CIV)* | 0.05 | 0.61 |\n",
    "| *Target-only (TNZ)* | 0.32 | 0.58 |  \n",
    "\n",
    "## For Ivory Coast as the Target Domain\n",
    "|**Model** | **F1-score** | **Overall Accuracy** | \n",
    "| ----- | --------| -- |\n",
    "| *Source-only (TNZ)* |  |  |\n",
    "| *Target-only (CIV)* |  |  |"
   ]
  },
  {
   "cell_type": "code",
   "execution_count": null,
   "id": "c986539c-9128-4163-9fb7-936abfaf1934",
   "metadata": {},
   "outputs": [],
   "source": []
  }
 ],
 "metadata": {
  "kernelspec": {
   "display_name": "Python 3 (ipykernel)",
   "language": "python",
   "name": "python3"
  },
  "language_info": {
   "codemirror_mode": {
    "name": "ipython",
    "version": 3
   },
   "file_extension": ".py",
   "mimetype": "text/x-python",
   "name": "python",
   "nbconvert_exporter": "python",
   "pygments_lexer": "ipython3",
   "version": "3.10.12"
  },
  "widgets": {
   "application/vnd.jupyter.widget-state+json": {
    "state": {},
    "version_major": 2,
    "version_minor": 0
   }
  }
 },
 "nbformat": 4,
 "nbformat_minor": 5
}
